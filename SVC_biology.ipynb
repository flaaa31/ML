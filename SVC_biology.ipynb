{
 "cells": [
  {
   "attachments": {},
   "cell_type": "markdown",
   "metadata": {},
   "source": [
    "# We will use SVC to predict different diagnoses"
   ]
  },
  {
   "cell_type": "code",
   "execution_count": 3,
   "metadata": {},
   "outputs": [],
   "source": [
    "import pandas as pd\n",
    "from sklearn.model_selection import train_test_split, GridSearchCV, cross_validate\n",
    "from sklearn.svm import SVC\n",
    "import matplotlib.pyplot as plt\n",
    "from sklearn.preprocessing import StandardScaler, label_binarize\n",
    "from sklearn.impute import SimpleImputer\n",
    "from sklearn.ensemble import RandomForestClassifier\n",
    "from sklearn.metrics import confusion_matrix, accuracy_score, precision_score, recall_score, f1_score, roc_auc_score, classification_report\n",
    "from patsy import dmatrices\n",
    "import statsmodels.api as sm\n",
    "from statsmodels.stats.outliers_influence import variance_inflation_factor\n",
    "import seaborn as sns\n",
    "import numpy as np"
   ]
  },
  {
   "cell_type": "code",
   "execution_count": 4,
   "metadata": {},
   "outputs": [
    {
     "data": {
      "text/html": [
       "<div>\n",
       "<style scoped>\n",
       "    .dataframe tbody tr th:only-of-type {\n",
       "        vertical-align: middle;\n",
       "    }\n",
       "\n",
       "    .dataframe tbody tr th {\n",
       "        vertical-align: top;\n",
       "    }\n",
       "\n",
       "    .dataframe thead th {\n",
       "        text-align: right;\n",
       "    }\n",
       "</style>\n",
       "<table border=\"1\" class=\"dataframe\">\n",
       "  <thead>\n",
       "    <tr style=\"text-align: right;\">\n",
       "      <th></th>\n",
       "      <th>column_3</th>\n",
       "      <th>column_20</th>\n",
       "      <th>column_11</th>\n",
       "      <th>column_16</th>\n",
       "      <th>column_22</th>\n",
       "      <th>column_10</th>\n",
       "      <th>column_26</th>\n",
       "      <th>column_19</th>\n",
       "      <th>column_13</th>\n",
       "      <th>column_12</th>\n",
       "      <th>...</th>\n",
       "      <th>column_7</th>\n",
       "      <th>column_5</th>\n",
       "      <th>column_21</th>\n",
       "      <th>column_29</th>\n",
       "      <th>column_15</th>\n",
       "      <th>column_9</th>\n",
       "      <th>column_6</th>\n",
       "      <th>column_24</th>\n",
       "      <th>column_17</th>\n",
       "      <th>column_18</th>\n",
       "    </tr>\n",
       "  </thead>\n",
       "  <tbody>\n",
       "    <tr>\n",
       "      <th>0</th>\n",
       "      <td>18</td>\n",
       "      <td>0.0</td>\n",
       "      <td>3.5</td>\n",
       "      <td>31.0</td>\n",
       "      <td>126.0</td>\n",
       "      <td>24.18</td>\n",
       "      <td>5157.0</td>\n",
       "      <td>100.0000</td>\n",
       "      <td>35.00</td>\n",
       "      <td>24.00</td>\n",
       "      <td>...</td>\n",
       "      <td>1.116260</td>\n",
       "      <td>0</td>\n",
       "      <td>21.0</td>\n",
       "      <td>14617.0</td>\n",
       "      <td>17.0</td>\n",
       "      <td>251.7</td>\n",
       "      <td>1</td>\n",
       "      <td>1.5</td>\n",
       "      <td>2.0</td>\n",
       "      <td>7.0</td>\n",
       "    </tr>\n",
       "    <tr>\n",
       "      <th>1</th>\n",
       "      <td>10</td>\n",
       "      <td>5.0</td>\n",
       "      <td>1.0</td>\n",
       "      <td>37.0</td>\n",
       "      <td>240.0</td>\n",
       "      <td>13.30</td>\n",
       "      <td>6451.0</td>\n",
       "      <td>12.5000</td>\n",
       "      <td>22.00</td>\n",
       "      <td>15.00</td>\n",
       "      <td>...</td>\n",
       "      <td>NaN</td>\n",
       "      <td>0</td>\n",
       "      <td>30.0</td>\n",
       "      <td>18691.0</td>\n",
       "      <td>26.0</td>\n",
       "      <td>159.7</td>\n",
       "      <td>0</td>\n",
       "      <td>1.5</td>\n",
       "      <td>4.0</td>\n",
       "      <td>1.0</td>\n",
       "    </tr>\n",
       "    <tr>\n",
       "      <th>2</th>\n",
       "      <td>16</td>\n",
       "      <td>15.0</td>\n",
       "      <td>1.5</td>\n",
       "      <td>40.0</td>\n",
       "      <td>83.0</td>\n",
       "      <td>34.04</td>\n",
       "      <td>6832.0</td>\n",
       "      <td>50.0000</td>\n",
       "      <td>NaN</td>\n",
       "      <td>5.67</td>\n",
       "      <td>...</td>\n",
       "      <td>1.280900</td>\n",
       "      <td>0</td>\n",
       "      <td>44.0</td>\n",
       "      <td>24193.0</td>\n",
       "      <td>30.0</td>\n",
       "      <td>334.1</td>\n",
       "      <td>0</td>\n",
       "      <td>1.5</td>\n",
       "      <td>6.0</td>\n",
       "      <td>6.0</td>\n",
       "    </tr>\n",
       "    <tr>\n",
       "      <th>3</th>\n",
       "      <td>12</td>\n",
       "      <td>1.0</td>\n",
       "      <td>4.0</td>\n",
       "      <td>21.0</td>\n",
       "      <td>144.0</td>\n",
       "      <td>27.37</td>\n",
       "      <td>5266.0</td>\n",
       "      <td>100.0000</td>\n",
       "      <td>35.33</td>\n",
       "      <td>23.33</td>\n",
       "      <td>...</td>\n",
       "      <td>0.937913</td>\n",
       "      <td>0</td>\n",
       "      <td>24.0</td>\n",
       "      <td>15759.0</td>\n",
       "      <td>25.0</td>\n",
       "      <td>287.7</td>\n",
       "      <td>1</td>\n",
       "      <td>1.5</td>\n",
       "      <td>2.0</td>\n",
       "      <td>5.0</td>\n",
       "    </tr>\n",
       "    <tr>\n",
       "      <th>4</th>\n",
       "      <td>9</td>\n",
       "      <td>12.0</td>\n",
       "      <td>0.0</td>\n",
       "      <td>32.0</td>\n",
       "      <td>66.0</td>\n",
       "      <td>19.88</td>\n",
       "      <td>7331.0</td>\n",
       "      <td>-28.5714</td>\n",
       "      <td>12.33</td>\n",
       "      <td>8.33</td>\n",
       "      <td>...</td>\n",
       "      <td>1.360140</td>\n",
       "      <td>0</td>\n",
       "      <td>47.0</td>\n",
       "      <td>16014.0</td>\n",
       "      <td>30.0</td>\n",
       "      <td>203.7</td>\n",
       "      <td>1</td>\n",
       "      <td>1.5</td>\n",
       "      <td>3.0</td>\n",
       "      <td>-2.0</td>\n",
       "    </tr>\n",
       "  </tbody>\n",
       "</table>\n",
       "<p>5 rows × 32 columns</p>\n",
       "</div>"
      ],
      "text/plain": [
       "   column_3  column_20  column_11  column_16  column_22  column_10  column_26  \\\n",
       "0        18        0.0        3.5       31.0      126.0      24.18     5157.0   \n",
       "1        10        5.0        1.0       37.0      240.0      13.30     6451.0   \n",
       "2        16       15.0        1.5       40.0       83.0      34.04     6832.0   \n",
       "3        12        1.0        4.0       21.0      144.0      27.37     5266.0   \n",
       "4         9       12.0        0.0       32.0       66.0      19.88     7331.0   \n",
       "\n",
       "   column_19  column_13  column_12  ...  column_7  column_5  column_21  \\\n",
       "0   100.0000      35.00      24.00  ...  1.116260         0       21.0   \n",
       "1    12.5000      22.00      15.00  ...       NaN         0       30.0   \n",
       "2    50.0000        NaN       5.67  ...  1.280900         0       44.0   \n",
       "3   100.0000      35.33      23.33  ...  0.937913         0       24.0   \n",
       "4   -28.5714      12.33       8.33  ...  1.360140         0       47.0   \n",
       "\n",
       "   column_29  column_15  column_9  column_6  column_24  column_17  column_18  \n",
       "0    14617.0       17.0     251.7         1        1.5        2.0        7.0  \n",
       "1    18691.0       26.0     159.7         0        1.5        4.0        1.0  \n",
       "2    24193.0       30.0     334.1         0        1.5        6.0        6.0  \n",
       "3    15759.0       25.0     287.7         1        1.5        2.0        5.0  \n",
       "4    16014.0       30.0     203.7         1        1.5        3.0       -2.0  \n",
       "\n",
       "[5 rows x 32 columns]"
      ]
     },
     "execution_count": 4,
     "metadata": {},
     "output_type": "execute_result"
    }
   ],
   "source": [
    "df = pd.read_csv(\"df.csv\")\n",
    "df.head()"
   ]
  },
  {
   "cell_type": "markdown",
   "metadata": {},
   "source": [
    "# EDA"
   ]
  },
  {
   "cell_type": "code",
   "execution_count": 5,
   "metadata": {},
   "outputs": [
    {
     "data": {
      "text/plain": [
       "(1403, 32)"
      ]
     },
     "execution_count": 5,
     "metadata": {},
     "output_type": "execute_result"
    }
   ],
   "source": [
    "df.shape"
   ]
  },
  {
   "cell_type": "code",
   "execution_count": 6,
   "metadata": {},
   "outputs": [
    {
     "name": "stdout",
     "output_type": "stream",
     "text": [
      "<class 'pandas.core.frame.DataFrame'>\n",
      "RangeIndex: 1403 entries, 0 to 1402\n",
      "Data columns (total 32 columns):\n",
      " #   Column     Non-Null Count  Dtype  \n",
      "---  ------     --------------  -----  \n",
      " 0   column_3   1403 non-null   int64  \n",
      " 1   column_20  1396 non-null   float64\n",
      " 2   column_11  1392 non-null   float64\n",
      " 3   column_16  1391 non-null   float64\n",
      " 4   column_22  1361 non-null   float64\n",
      " 5   column_10  1403 non-null   float64\n",
      " 6   column_26  1150 non-null   float64\n",
      " 7   column_19  1380 non-null   float64\n",
      " 8   column_13  1385 non-null   float64\n",
      " 9   column_12  1399 non-null   float64\n",
      " 10  column_14  1401 non-null   float64\n",
      " 11  target     1403 non-null   int64  \n",
      " 12  column_8   1403 non-null   float64\n",
      " 13  column_31  1341 non-null   float64\n",
      " 14  column_27  1296 non-null   float64\n",
      " 15  column_25  1261 non-null   float64\n",
      " 16  column_1   1403 non-null   float64\n",
      " 17  column_4   1403 non-null   int64  \n",
      " 18  column_2   1403 non-null   int64  \n",
      " 19  column_28  1082 non-null   float64\n",
      " 20  column_23  1396 non-null   float64\n",
      " 21  column_30  1082 non-null   float64\n",
      " 22  column_7   850 non-null    float64\n",
      " 23  column_5   1403 non-null   int64  \n",
      " 24  column_21  741 non-null    float64\n",
      " 25  column_29  1082 non-null   float64\n",
      " 26  column_15  1402 non-null   float64\n",
      " 27  column_9   1403 non-null   float64\n",
      " 28  column_6   1403 non-null   int64  \n",
      " 29  column_24  1283 non-null   float64\n",
      " 30  column_17  1391 non-null   float64\n",
      " 31  column_18  1390 non-null   float64\n",
      "dtypes: float64(26), int64(6)\n",
      "memory usage: 350.9 KB\n"
     ]
    }
   ],
   "source": [
    "df.info()"
   ]
  },
  {
   "cell_type": "code",
   "execution_count": 7,
   "metadata": {},
   "outputs": [
    {
     "name": "stdout",
     "output_type": "stream",
     "text": [
      "column_3       0\n",
      "column_20      7\n",
      "column_11     11\n",
      "column_16     12\n",
      "column_22     42\n",
      "column_10      0\n",
      "column_26    253\n",
      "column_19     23\n",
      "column_13     18\n",
      "column_12      4\n",
      "column_14      2\n",
      "target         0\n",
      "column_8       0\n",
      "column_31     62\n",
      "column_27    107\n",
      "column_25    142\n",
      "column_1       0\n",
      "column_4       0\n",
      "column_2       0\n",
      "column_28    321\n",
      "column_23      7\n",
      "column_30    321\n",
      "column_7     553\n",
      "column_5       0\n",
      "column_21    662\n",
      "column_29    321\n",
      "column_15      1\n",
      "column_9       0\n",
      "column_6       0\n",
      "column_24    120\n",
      "column_17     12\n",
      "column_18     13\n",
      "dtype: int64\n"
     ]
    }
   ],
   "source": [
    "print(df.isna().sum()) #different NaN"
   ]
  },
  {
   "cell_type": "code",
   "execution_count": 8,
   "metadata": {},
   "outputs": [
    {
     "name": "stdout",
     "output_type": "stream",
     "text": [
      "0\n"
     ]
    }
   ],
   "source": [
    "print(df[\"target\"].isna().sum()) # no Nan in target"
   ]
  },
  {
   "cell_type": "code",
   "execution_count": 9,
   "metadata": {},
   "outputs": [],
   "source": [
    "#plot of target value\n",
    "def plot_value_counts(df, target_column, colors) -> None:\n",
    "    \"\"\"\n",
    "    Creates a bar plot of value counts for a specific column in a DataFrame.\n",
    "\n",
    "    Parameters:\n",
    "    df (pandas.DataFrame): The DataFrame from which to extract the data.\n",
    "    target_column (str): The name of the target column in the DataFrame.\n",
    "    colors (dict): A dictionary mapping target values to colors.\n",
    "\n",
    "    Example:\n",
    "    >>> df = pd.DataFrame({'target': [1, 2, 2, 0, 1, 2, 0, 0, 1, 1]})\n",
    "    >>> colors = {0:'green', 1:'orange', 2:'red'}\n",
    "    >>> plot_value_counts(df, 'target', colors)\n",
    "    \"\"\"\n",
    "\n",
    "    # Calculate the value counts\n",
    "    value_counts = df[target_column].value_counts()\n",
    "\n",
    "    # Create a bar plot with different colors for each bar\n",
    "    plt.bar(value_counts.index, value_counts.values, color=[colors[i] for i in value_counts.index])\n",
    "\n",
    "    # Add the numbers above each column\n",
    "    for i in value_counts.index:\n",
    "        plt.text(i, max(value_counts.values), str(value_counts[i]), ha='center', va='bottom')\n",
    "\n",
    "    # Set the x-axis limits\n",
    "    plt.xticks(value_counts.index)\n",
    "    plt.xlabel(\"target\")\n",
    "    plt.ylabel(\"count\")\n",
    "    plt.title(\"Target distribution\")\n",
    "\n",
    "    # Show the plot\n",
    "    plt.show()\n"
   ]
  },
  {
   "cell_type": "code",
   "execution_count": 10,
   "metadata": {},
   "outputs": [
    {
     "data": {
      "image/png": "[encoded data removed]",
      "text/plain": [
       "<Figure size 640x480 with 1 Axes>"
      ]
     },
     "metadata": {},
     "output_type": "display_data"
    }
   ],
   "source": [
    "plot_value_counts(df, \"target\", colors = {0:'green', 1:'orange', 2:'red'})"
   ]
  },
  {
   "attachments": {},
   "cell_type": "markdown",
   "metadata": {},
   "source": [
    "## Preprocessing "
   ]
  },
  {
   "cell_type": "code",
   "execution_count": 11,
   "metadata": {},
   "outputs": [],
   "source": [
    "y = df[\"target\"]\n",
    "X = df.drop(\"target\", axis=1)\n",
    "X_train, X_test, y_train, y_test = train_test_split(X, y, test_size=0.3, random_state=42)"
   ]
  },
  {
   "attachments": {},
   "cell_type": "markdown",
   "metadata": {},
   "source": [
    "## Data imputation for missing values"
   ]
  },
  {
   "cell_type": "code",
   "execution_count": 12,
   "metadata": {},
   "outputs": [],
   "source": [
    "imputer=SimpleImputer(strategy=\"mean\")"
   ]
  },
  {
   "cell_type": "code",
   "execution_count": 13,
   "metadata": {},
   "outputs": [],
   "source": [
    "X_train = imputer.fit_transform(X_train)\n",
    "X_test = imputer.transform(X_test)"
   ]
  },
  {
   "attachments": {},
   "cell_type": "markdown",
   "metadata": {},
   "source": [
    "## Standardization"
   ]
  },
  {
   "cell_type": "code",
   "execution_count": 14,
   "metadata": {},
   "outputs": [],
   "source": [
    "scaler = StandardScaler()\n",
    "X_train = scaler.fit_transform(X_train)\n",
    "X_test =scaler.transform(X_test)"
   ]
  },
  {
   "attachments": {},
   "cell_type": "markdown",
   "metadata": {},
   "source": [
    "## Feature selection: random forest"
   ]
  },
  {
   "cell_type": "code",
   "execution_count": 15,
   "metadata": {},
   "outputs": [],
   "source": [
    "def plot_feature_importances(X_train, y_train, n_estimators=35) -> pd.DataFrame:\n",
    "    \"\"\"\n",
    "    Trains a RandomForestClassifier and plots the feature importances.\n",
    "\n",
    "    Parameters:\n",
    "    X_train (pd.DataFrame): The input features for training.\n",
    "    y_train (pd.Series): The target output for training.\n",
    "    n_estimators (int, optional): The number of trees in the forest. Defaults to 35.\n",
    "\n",
    "    Returns:\n",
    "    final_df (pd.DataFrame): A DataFrame containing the features and their corresponding importances.\n",
    "    \"\"\"\n",
    "    # Train the model\n",
    "    model = RandomForestClassifier(n_estimators=n_estimators)\n",
    "    model.fit(X_train, y_train)\n",
    "\n",
    "    # Get feature importances\n",
    "    importances = model.feature_importances_\n",
    "\n",
    "    # Create a DataFrame with feature numbers and their corresponding importances\n",
    "    final_df = pd.DataFrame({'Features': range(len(importances)), 'Importances': importances})\n",
    "\n",
    "    # Set \"Features\" as index\n",
    "    final_df.set_index(\"Features\", inplace=True)\n",
    "\n",
    "    # Sort the DataFrame by \"Importances\"\n",
    "    final_df = final_df.sort_values(\"Importances\")\n",
    "\n",
    "    # Plot the DataFrame\n",
    "    final_df.plot.bar(color = \"teal\")\n",
    "    plt.show()\n",
    "\n",
    "    # Return the DataFrame\n",
    "    return final_df\n"
   ]
  },
  {
   "cell_type": "code",
   "execution_count": 16,
   "metadata": {},
   "outputs": [
    {
     "data": {
      "image/png": "[encoded data removed]",
      "text/plain": [
       "<Figure size 640x480 with 1 Axes>"
      ]
     },
     "metadata": {},
     "output_type": "display_data"
    },
    {
     "name": "stdout",
     "output_type": "stream",
     "text": [
      "          Importances\n",
      "Features             \n",
      "16           0.000893\n",
      "17           0.002685\n",
      "22           0.002794\n",
      "27           0.003785\n",
      "28           0.006802\n",
      "0            0.009206\n",
      "30           0.009938\n",
      "20           0.011326\n",
      "21           0.013496\n",
      "6            0.014064\n",
      "12           0.015061\n",
      "18           0.015225\n",
      "14           0.015496\n",
      "13           0.015674\n",
      "15           0.016762\n",
      "26           0.016763\n",
      "29           0.016872\n",
      "24           0.017056\n",
      "5            0.017312\n",
      "23           0.017797\n",
      "4            0.019814\n",
      "7            0.024569\n",
      "11           0.029328\n",
      "9            0.038331\n",
      "3            0.039297\n",
      "10           0.059814\n",
      "25           0.064767\n",
      "8            0.071646\n",
      "1            0.079964\n",
      "19           0.094525\n",
      "2            0.238938\n"
     ]
    }
   ],
   "source": [
    "importances_df = plot_feature_importances(X_train, y_train)\n",
    "print(importances_df)"
   ]
  },
  {
   "cell_type": "markdown",
   "metadata": {},
   "source": [
    "**it seems that feature 2 is very important in defining our model**"
   ]
  },
  {
   "attachments": {},
   "cell_type": "markdown",
   "metadata": {},
   "source": [
    "## VIF"
   ]
  },
  {
   "cell_type": "code",
   "execution_count": 17,
   "metadata": {},
   "outputs": [
    {
     "data": {
      "text/html": [
       "<div>\n",
       "<style scoped>\n",
       "    .dataframe tbody tr th:only-of-type {\n",
       "        vertical-align: middle;\n",
       "    }\n",
       "\n",
       "    .dataframe tbody tr th {\n",
       "        vertical-align: top;\n",
       "    }\n",
       "\n",
       "    .dataframe thead th {\n",
       "        text-align: right;\n",
       "    }\n",
       "</style>\n",
       "<table border=\"1\" class=\"dataframe\">\n",
       "  <thead>\n",
       "    <tr style=\"text-align: right;\">\n",
       "      <th></th>\n",
       "      <th>VIF Factor</th>\n",
       "      <th>features</th>\n",
       "    </tr>\n",
       "  </thead>\n",
       "  <tbody>\n",
       "    <tr>\n",
       "      <th>0</th>\n",
       "      <td>1.2</td>\n",
       "      <td>0</td>\n",
       "    </tr>\n",
       "    <tr>\n",
       "      <th>1</th>\n",
       "      <td>3.3</td>\n",
       "      <td>1</td>\n",
       "    </tr>\n",
       "    <tr>\n",
       "      <th>2</th>\n",
       "      <td>6.3</td>\n",
       "      <td>2</td>\n",
       "    </tr>\n",
       "    <tr>\n",
       "      <th>3</th>\n",
       "      <td>4.0</td>\n",
       "      <td>3</td>\n",
       "    </tr>\n",
       "    <tr>\n",
       "      <th>4</th>\n",
       "      <td>1.8</td>\n",
       "      <td>4</td>\n",
       "    </tr>\n",
       "    <tr>\n",
       "      <th>5</th>\n",
       "      <td>35.7</td>\n",
       "      <td>5</td>\n",
       "    </tr>\n",
       "    <tr>\n",
       "      <th>6</th>\n",
       "      <td>2.9</td>\n",
       "      <td>6</td>\n",
       "    </tr>\n",
       "    <tr>\n",
       "      <th>7</th>\n",
       "      <td>6.3</td>\n",
       "      <td>7</td>\n",
       "    </tr>\n",
       "    <tr>\n",
       "      <th>8</th>\n",
       "      <td>15.0</td>\n",
       "      <td>8</td>\n",
       "    </tr>\n",
       "    <tr>\n",
       "      <th>9</th>\n",
       "      <td>11.6</td>\n",
       "      <td>9</td>\n",
       "    </tr>\n",
       "    <tr>\n",
       "      <th>10</th>\n",
       "      <td>6.2</td>\n",
       "      <td>10</td>\n",
       "    </tr>\n",
       "    <tr>\n",
       "      <th>11</th>\n",
       "      <td>2.2</td>\n",
       "      <td>11</td>\n",
       "    </tr>\n",
       "    <tr>\n",
       "      <th>12</th>\n",
       "      <td>5.7</td>\n",
       "      <td>12</td>\n",
       "    </tr>\n",
       "    <tr>\n",
       "      <th>13</th>\n",
       "      <td>6.1</td>\n",
       "      <td>13</td>\n",
       "    </tr>\n",
       "    <tr>\n",
       "      <th>14</th>\n",
       "      <td>2.5</td>\n",
       "      <td>14</td>\n",
       "    </tr>\n",
       "    <tr>\n",
       "      <th>15</th>\n",
       "      <td>1.6</td>\n",
       "      <td>15</td>\n",
       "    </tr>\n",
       "    <tr>\n",
       "      <th>16</th>\n",
       "      <td>1.1</td>\n",
       "      <td>16</td>\n",
       "    </tr>\n",
       "    <tr>\n",
       "      <th>17</th>\n",
       "      <td>1.9</td>\n",
       "      <td>17</td>\n",
       "    </tr>\n",
       "    <tr>\n",
       "      <th>18</th>\n",
       "      <td>2.2</td>\n",
       "      <td>18</td>\n",
       "    </tr>\n",
       "    <tr>\n",
       "      <th>19</th>\n",
       "      <td>4.9</td>\n",
       "      <td>19</td>\n",
       "    </tr>\n",
       "    <tr>\n",
       "      <th>20</th>\n",
       "      <td>3.1</td>\n",
       "      <td>20</td>\n",
       "    </tr>\n",
       "    <tr>\n",
       "      <th>21</th>\n",
       "      <td>1.0</td>\n",
       "      <td>21</td>\n",
       "    </tr>\n",
       "    <tr>\n",
       "      <th>22</th>\n",
       "      <td>1.2</td>\n",
       "      <td>22</td>\n",
       "    </tr>\n",
       "    <tr>\n",
       "      <th>23</th>\n",
       "      <td>1.7</td>\n",
       "      <td>23</td>\n",
       "    </tr>\n",
       "    <tr>\n",
       "      <th>24</th>\n",
       "      <td>2.7</td>\n",
       "      <td>24</td>\n",
       "    </tr>\n",
       "    <tr>\n",
       "      <th>25</th>\n",
       "      <td>4.6</td>\n",
       "      <td>25</td>\n",
       "    </tr>\n",
       "    <tr>\n",
       "      <th>26</th>\n",
       "      <td>34.8</td>\n",
       "      <td>26</td>\n",
       "    </tr>\n",
       "    <tr>\n",
       "      <th>27</th>\n",
       "      <td>1.6</td>\n",
       "      <td>27</td>\n",
       "    </tr>\n",
       "    <tr>\n",
       "      <th>28</th>\n",
       "      <td>1.7</td>\n",
       "      <td>28</td>\n",
       "    </tr>\n",
       "    <tr>\n",
       "      <th>29</th>\n",
       "      <td>2.5</td>\n",
       "      <td>29</td>\n",
       "    </tr>\n",
       "    <tr>\n",
       "      <th>30</th>\n",
       "      <td>4.0</td>\n",
       "      <td>30</td>\n",
       "    </tr>\n",
       "  </tbody>\n",
       "</table>\n",
       "</div>"
      ],
      "text/plain": [
       "    VIF Factor  features\n",
       "0          1.2         0\n",
       "1          3.3         1\n",
       "2          6.3         2\n",
       "3          4.0         3\n",
       "4          1.8         4\n",
       "5         35.7         5\n",
       "6          2.9         6\n",
       "7          6.3         7\n",
       "8         15.0         8\n",
       "9         11.6         9\n",
       "10         6.2        10\n",
       "11         2.2        11\n",
       "12         5.7        12\n",
       "13         6.1        13\n",
       "14         2.5        14\n",
       "15         1.6        15\n",
       "16         1.1        16\n",
       "17         1.9        17\n",
       "18         2.2        18\n",
       "19         4.9        19\n",
       "20         3.1        20\n",
       "21         1.0        21\n",
       "22         1.2        22\n",
       "23         1.7        23\n",
       "24         2.7        24\n",
       "25         4.6        25\n",
       "26        34.8        26\n",
       "27         1.6        27\n",
       "28         1.7        28\n",
       "29         2.5        29\n",
       "30         4.0        30"
      ]
     },
     "execution_count": 17,
     "metadata": {},
     "output_type": "execute_result"
    }
   ],
   "source": [
    "#VIF check & delete autocorrelated features:\n",
    "vif = pd.DataFrame()\n",
    "vif[\"VIF Factor\"] = [variance_inflation_factor(X_train, i) for i in range(X_train.shape[1])]\n",
    "vif[\"features\"] = range(X_train.shape[1])\n",
    "vif.round(1)"
   ]
  },
  {
   "cell_type": "code",
   "execution_count": 20,
   "metadata": {},
   "outputs": [],
   "source": [
    "#remove all features with VIF>10\n",
    "to_drop_vif = vif[vif[\"VIF Factor\"] > 10]\n",
    "# Get the indices of the features to drop\n",
    "to_drop_indices = to_drop_vif[\"features\"].values\n",
    "\n",
    "# Drop the features from X_train and X_test\n",
    "X_train = np.delete(X_train, to_drop_indices, axis=1)\n",
    "X_test = np.delete(X_test, to_drop_indices, axis=1)"
   ]
  },
  {
   "attachments": {},
   "cell_type": "markdown",
   "metadata": {},
   "source": [
    "## SVC"
   ]
  },
  {
   "cell_type": "code",
   "execution_count": 21,
   "metadata": {},
   "outputs": [],
   "source": [
    "svc = SVC(probability=True)"
   ]
  },
  {
   "cell_type": "code",
   "execution_count": 22,
   "metadata": {},
   "outputs": [],
   "source": [
    "# Different iperparameters to test with GridSearchCV\n",
    "hyper = {'kernel':('linear', 'rbf','poly','sigmoid'), 'C':[0.1, 1, 10], 'gamma':[0.1, 1, 10]}"
   ]
  },
  {
   "cell_type": "code",
   "execution_count": 23,
   "metadata": {},
   "outputs": [],
   "source": [
    "# GridSearchCV inizialization with SVC model and hyperparameters defined\n",
    "clf = GridSearchCV(svc, hyper)"
   ]
  },
  {
   "cell_type": "code",
   "execution_count": 24,
   "metadata": {},
   "outputs": [],
   "source": [
    "# training\n",
    "best_svc = clf.fit(X_train, y_train)"
   ]
  },
  {
   "cell_type": "code",
   "execution_count": 25,
   "metadata": {},
   "outputs": [
    {
     "name": "stdout",
     "output_type": "stream",
     "text": [
      "{'C': 10, 'gamma': 0.1, 'kernel': 'linear'}\n"
     ]
    }
   ],
   "source": [
    "print(best_svc.best_params_)"
   ]
  },
  {
   "cell_type": "code",
   "execution_count": 26,
   "metadata": {},
   "outputs": [
    {
     "name": "stdout",
     "output_type": "stream",
     "text": [
      "              precision    recall  f1-score   support\n",
      "\n",
      "           0       0.93      0.91      0.92       137\n",
      "           1       0.89      0.88      0.88       201\n",
      "           2       0.83      0.89      0.86        83\n",
      "\n",
      "    accuracy                           0.89       421\n",
      "   macro avg       0.88      0.89      0.89       421\n",
      "weighted avg       0.89      0.89      0.89       421\n",
      "\n"
     ]
    }
   ],
   "source": [
    "y_pred = best_svc.predict(X_test)\n",
    "print(classification_report(y_test, y_pred))"
   ]
  },
  {
   "cell_type": "code",
   "execution_count": 27,
   "metadata": {},
   "outputs": [
    {
     "data": {
      "image/png": "[encoded data removed]",
      "text/plain": [
       "<Figure size 800x500 with 1 Axes>"
      ]
     },
     "metadata": {},
     "output_type": "display_data"
    }
   ],
   "source": [
    "cm_lin = confusion_matrix(y_test, y_pred)\n",
    "plt.figure(figsize = (8,5))\n",
    "sns.heatmap(cm_lin, annot=True, fmt=\"d\", xticklabels=['predicted 0','predicted 1','predicted 2'], yticklabels=[0,1,2], cbar=False, cmap=\"Reds\", vmin=0, vmax=93)\n",
    "plt.title(\"Confusion Matrix\")\n",
    "plt.show()"
   ]
  },
  {
   "cell_type": "code",
   "execution_count": 28,
   "metadata": {},
   "outputs": [],
   "source": [
    "from sklearn.metrics import roc_curve, auc\n",
    "from sklearn.preprocessing import label_binarize\n",
    "import matplotlib.pyplot as plt\n",
    "\n",
    "def plot_roc_curve(y_test, y_score, n_classes=3) -> None:\n",
    "    \"\"\"\n",
    "    This function plots the ROC curve for each class.\n",
    "    \n",
    "    Parameters:\n",
    "    y_test: array-like of shape (n_samples,) - True labels\n",
    "    y_score: array-like of shape (n_samples,) - Target scores\n",
    "    n_classes: int - Number of classes\n",
    "    \n",
    "    Returns:\n",
    "    None\n",
    "    \"\"\"\n",
    "    # Binarize y_test for multiclass calculation\n",
    "    y_test_bin = label_binarize(y_test, classes=[0, 1, 2])\n",
    "\n",
    "    # Calculate the ROC curve for each class\n",
    "    fpr = dict()\n",
    "    tpr = dict()\n",
    "    roc_auc = dict()\n",
    "    for i in range(n_classes):\n",
    "        fpr[i], tpr[i], _ = roc_curve(y_test_bin[:, i], y_score[:, i])\n",
    "        roc_auc[i] = auc(fpr[i], tpr[i])\n",
    "\n",
    "    # Define colors for each class\n",
    "    colors = ['green', 'orange', 'red']\n",
    "\n",
    "    # Plot the ROC curve\n",
    "    plt.figure()\n",
    "    for i in range(n_classes):\n",
    "        plt.plot(fpr[i], tpr[i], color=colors[i], label='ROC curve of class {0} (area = {1:0.2f})'.format(i, roc_auc[i]))\n",
    "    plt.plot([0, 1], [0, 1], 'k--')\n",
    "    plt.xlim([0.0, 1.0])\n",
    "    plt.ylim([0.0, 1.05])\n",
    "    plt.xlabel('False Positive Rate')\n",
    "    plt.ylabel('True Positive Rate')\n",
    "    plt.title('Receiver Operating Characteristic')\n",
    "    plt.legend(loc=\"lower right\")\n",
    "    plt.show()\n"
   ]
  },
  {
   "cell_type": "code",
   "execution_count": 29,
   "metadata": {},
   "outputs": [
    {
     "data": {
      "image/png": "[encoded data removed]",
      "text/plain": [
       "<Figure size 640x480 with 1 Axes>"
      ]
     },
     "metadata": {},
     "output_type": "display_data"
    }
   ],
   "source": [
    "y_score = best_svc.predict_proba(X_test)\n",
    "plot_roc_curve(y_test, y_score, n_classes=3)"
   ]
  },
  {
   "cell_type": "code",
   "execution_count": null,
   "metadata": {},
   "outputs": [],
   "source": []
  }
 ],
 "metadata": {
  "kernelspec": {
   "display_name": "Python 3 (ipykernel)",
   "language": "python",
   "name": "python3"
  },
  "language_info": {
   "codemirror_mode": {
    "name": "ipython",
    "version": 3
   },
   "file_extension": ".py",
   "mimetype": "text/x-python",
   "name": "python",
   "nbconvert_exporter": "python",
   "pygments_lexer": "ipython3",
   "version": "3.11.5"
  },
  "vscode": {
   "interpreter": {
    "hash": "1b23961bb7744920de7929ef530e39d03117a6b2422070244d5ccfe13745cb04"
   }
  }
 },
 "nbformat": 4,
 "nbformat_minor": 4
}
